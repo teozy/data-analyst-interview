{
 "cells": [
  {
   "cell_type": "code",
   "execution_count": 1,
   "metadata": {},
   "outputs": [],
   "source": [
    "import pandas as pd\n",
    "import zipfile"
   ]
  },
  {
   "cell_type": "code",
   "execution_count": 2,
   "metadata": {},
   "outputs": [],
   "source": [
    "path = \"C:/Users/teo_z/Downloads/2009.zip\"\n",
    "#Identify .gz files to read from and join them together\n",
    "df = []\n",
    "  \n",
    "zf = zipfile.ZipFile(path, \"r\")\n",
    "files = zf.infolist()\n",
    "df = pd.concat([pd.read_csv(zf.open(file.filename),compression='gzip', header=0, sep='\\t')for file in files\n",
    "                if file.filename.endswith('.gz')])"
   ]
  },
  {
   "cell_type": "code",
   "execution_count": 3,
   "metadata": {},
   "outputs": [],
   "source": [
    "#Drop unnecessary columns\n",
    "processed = df.drop(['StoreName', 'ProductName', 'Color', 'Size', 'Manufacturer', 'SafetyStockQuantity', 'UnitCost'], axis=1)"
   ]
  },
  {
   "cell_type": "code",
   "execution_count": 4,
   "metadata": {},
   "outputs": [],
   "source": [
    "#Rename column headers\n",
    "processed.columns = ['DateID','StoreID','ProductID','OnHandQty','OnOrderQty','DaysInStock','MinDayInStock','MaxDayInStock']"
   ]
  },
  {
   "cell_type": "code",
   "execution_count": 5,
   "metadata": {},
   "outputs": [],
   "source": [
    "#Save to new file\n",
    "processed.to_csv( \"C:/Users/teo_z/Downloads/processed_data.txt\", index=False, sep = '\\t', line_terminator='\\n')"
   ]
  },
  {
   "cell_type": "code",
   "execution_count": null,
   "metadata": {},
   "outputs": [],
   "source": []
  }
 ],
 "metadata": {
  "kernelspec": {
   "display_name": "Python 3",
   "language": "python",
   "name": "python3"
  },
  "language_info": {
   "codemirror_mode": {
    "name": "ipython",
    "version": 3
   },
   "file_extension": ".py",
   "mimetype": "text/x-python",
   "name": "python",
   "nbconvert_exporter": "python",
   "pygments_lexer": "ipython3",
   "version": "3.7.4"
  }
 },
 "nbformat": 4,
 "nbformat_minor": 2
}
